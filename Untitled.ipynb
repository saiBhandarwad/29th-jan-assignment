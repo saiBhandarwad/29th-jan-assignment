{
 "cells": [
  {
   "cell_type": "code",
   "execution_count": null,
   "id": "157b24e4-c2cb-464a-a696-1459742da881",
   "metadata": {},
   "outputs": [],
   "source": [
    "# Q1.ANS=>\n",
    "'''Guido van Rossum developed python programming language'''"
   ]
  },
  {
   "cell_type": "code",
   "execution_count": null,
   "id": "3377f318-97ce-4ffb-90d1-bf3836fd35a0",
   "metadata": {},
   "outputs": [],
   "source": [
    "# Q2.ANS=>\n",
    "'''Object-oriented programming and structured programming these types python support'''\n"
   ]
  },
  {
   "cell_type": "code",
   "execution_count": null,
   "id": "874866ff-8351-4ccc-9b01-01841c18d659",
   "metadata": {},
   "outputs": [],
   "source": [
    "# Q3.ANS=>\n",
    "'''yes python is case sensitive when dealing with identifires"
   ]
  },
  {
   "cell_type": "code",
   "execution_count": null,
   "id": "42035091-b82f-4e65-a262-ce1b30ea5692",
   "metadata": {},
   "outputs": [],
   "source": [
    "# Q4.ANS=>\n",
    "'''.py is the correct extension for the python file'''"
   ]
  },
  {
   "cell_type": "code",
   "execution_count": null,
   "id": "dcf8eb1d-6ca0-4943-80f0-329010165826",
   "metadata": {
    "tags": []
   },
   "outputs": [],
   "source": [
    "# Q5.ANS=>\n",
    "'''Python is an interpreted language, which means the source code of a Python program is converted into bytecode that is then executed\n",
    "   by the Python virtual machine'''"
   ]
  },
  {
   "cell_type": "code",
   "execution_count": null,
   "id": "e0d0e5d4-1487-444b-ba09-4eaa54e06108",
   "metadata": {},
   "outputs": [],
   "source": [
    "# Q6.ANS=>\n",
    "'''a module, a function body, and a class definition these are the name of few blocks of code'''"
   ]
  },
  {
   "cell_type": "code",
   "execution_count": null,
   "id": "82613ce9-99cc-4309-9ab1-f59594176278",
   "metadata": {},
   "outputs": [],
   "source": [
    "# Q7.ANS=>\n",
    "'''A  '#' character is used to give single line comment'''"
   ]
  },
  {
   "cell_type": "code",
   "execution_count": null,
   "id": "dcd38a82-5821-454a-be7e-77b4df3be8ba",
   "metadata": {},
   "outputs": [],
   "source": [
    "# Q8.ANS=>\n",
    "'''sys.version is used to check python version'''\n"
   ]
  },
  {
   "cell_type": "code",
   "execution_count": null,
   "id": "bc2513c8-362f-4e84-a7d4-a76662f7d134",
   "metadata": {},
   "outputs": [],
   "source": [
    "# Q9.ANS=>\n",
    "'''python supports the creation of anonymous functions at runtime using a construct called \"lambda\" '''"
   ]
  },
  {
   "cell_type": "code",
   "execution_count": null,
   "id": "93e50025-6df7-4210-a6a0-d17b639041cf",
   "metadata": {},
   "outputs": [],
   "source": [
    "# Q10.ANS=>\n",
    "'''pip stands for Performance Improvement Plan in python,\n",
    "   pip installed packages are also called as pip'''"
   ]
  },
  {
   "cell_type": "code",
   "execution_count": null,
   "id": "626b6015-74ca-4e04-adba-4cd54dc61ee5",
   "metadata": {},
   "outputs": [],
   "source": [
    "# Q11.ANS=>\n",
    "'''built in functions are len(), print(), sorted(), input(), type(), abs(), pow()'''"
   ]
  },
  {
   "cell_type": "code",
   "execution_count": null,
   "id": "3219dc82-64a5-4dd9-a7ed-1cf0a679dc5d",
   "metadata": {},
   "outputs": [],
   "source": [
    "# Q12.ANS=>\n",
    "'''An identifier can have a maximum length of 79 characters in Python'''"
   ]
  },
  {
   "cell_type": "code",
   "execution_count": null,
   "id": "c7ef5502-8638-40e5-b33e-57676c6aab91",
   "metadata": {},
   "outputs": [],
   "source": [
    "# Q13.ANS=>\n",
    "'''Libraries help reduce coding errors, make programmers more efficient, and make software smaller in size (and lines of code)'''"
   ]
  },
  {
   "cell_type": "code",
   "execution_count": null,
   "id": "9785a64c-6152-425a-bea0-15a18d2faab7",
   "metadata": {},
   "outputs": [],
   "source": [
    "# Q14.ANS=>\n",
    "'''Memory management in Python involves a private heap containing all Python objects and data structures. The management of \n",
    "   this private heap is ensured internally by the Python memory manager.\n",
    "   Python uses a portion of the memory for internal use and non-object memory. Another part of the memory is used for Python \n",
    "   object such as int, dict, list, etc. '''"
   ]
  },
  {
   "cell_type": "code",
   "execution_count": null,
   "id": "bc700092-9626-4cf6-bab6-451c08b28432",
   "metadata": {},
   "outputs": [],
   "source": [
    "# Q15.ANS=>\n",
    "'''Open a browser to the Python website and download the Windows installer. 2. Double click on the downloaded file and install Python \n",
    "  for all users, and ensure that Python is added to your path. Click on Install now to begin \n",
    "  when we click to installer to install python there is a checkbox , click on the checkbox add to environment variable path \n",
    "  or you can set manually like below\n",
    "  to set environment variable path : click Start and search for 'edit environment variables', or open System properties, Advanced system \n",
    "  settings and click the Environment Variables button and click on edit path then click on new path and add to path"
   ]
  },
  {
   "cell_type": "code",
   "execution_count": null,
   "id": "8d99c90f-0af3-4b3a-99c3-3efa1c749969",
   "metadata": {},
   "outputs": [],
   "source": [
    "# Q16.ANS=>\n",
    "'''yes , indentation is very important in python'''"
   ]
  },
  {
   "cell_type": "code",
   "execution_count": null,
   "id": "0c37d796-1727-4bc7-af0e-e5cfa413672e",
   "metadata": {},
   "outputs": [],
   "source": []
  }
 ],
 "metadata": {
  "kernelspec": {
   "display_name": "Python 3 (ipykernel)",
   "language": "python",
   "name": "python3"
  },
  "language_info": {
   "codemirror_mode": {
    "name": "ipython",
    "version": 3
   },
   "file_extension": ".py",
   "mimetype": "text/x-python",
   "name": "python",
   "nbconvert_exporter": "python",
   "pygments_lexer": "ipython3",
   "version": "3.10.8"
  }
 },
 "nbformat": 4,
 "nbformat_minor": 5
}
